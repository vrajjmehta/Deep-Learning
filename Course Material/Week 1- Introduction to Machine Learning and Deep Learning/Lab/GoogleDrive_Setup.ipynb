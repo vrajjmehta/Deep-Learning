{
  "nbformat": 4,
  "nbformat_minor": 0,
  "metadata": {
    "colab": {
      "name": "GoogleDrive-Setup.ipynb",
      "provenance": [],
      "collapsed_sections": [],
      "toc_visible": true
    },
    "kernelspec": {
      "name": "python3",
      "display_name": "Python 3"
    }
  },
  "cells": [
    {
      "cell_type": "markdown",
      "metadata": {
        "id": "0qOtnWYEYU4N",
        "colab_type": "text"
      },
      "source": [
        "# **42028: Deep Learning and CNN**\n",
        "\n",
        "### Google Drive Setup Script\n",
        "\n"
      ]
    },
    {
      "cell_type": "markdown",
      "metadata": {
        "id": "YAHRb4x5YsSV",
        "colab_type": "text"
      },
      "source": [
        "## Connect to your Google Drive:"
      ]
    },
    {
      "cell_type": "code",
      "metadata": {
        "id": "16J3dtPbYSML",
        "colab_type": "code",
        "colab": {}
      },
      "source": [
        "from google.colab import drive\n",
        "drive.mount('/content/gdrive')"
      ],
      "execution_count": 0,
      "outputs": []
    },
    {
      "cell_type": "markdown",
      "metadata": {
        "id": "X35WJO12ZKyl",
        "colab_type": "text"
      },
      "source": [
        "## Create the Folder Structure for the Semester\n"
      ]
    },
    {
      "cell_type": "code",
      "metadata": {
        "id": "ubW_X0lIZQtv",
        "colab_type": "code",
        "colab": {}
      },
      "source": [
        "cd /content/gdrive/My Drive"
      ],
      "execution_count": 0,
      "outputs": []
    },
    {
      "cell_type": "code",
      "metadata": {
        "id": "t27pISMPZYFF",
        "colab_type": "code",
        "colab": {}
      },
      "source": [
        "!ls"
      ],
      "execution_count": 0,
      "outputs": []
    },
    {
      "cell_type": "code",
      "metadata": {
        "id": "NS4RfX4VZyZW",
        "colab_type": "code",
        "colab": {}
      },
      "source": [
        "!mkdir 42028-DL-CNN-2020"
      ],
      "execution_count": 0,
      "outputs": []
    },
    {
      "cell_type": "code",
      "metadata": {
        "id": "EojBavLKcAkU",
        "colab_type": "code",
        "colab": {}
      },
      "source": [
        "cd 42028-DL-CNN-2020"
      ],
      "execution_count": 0,
      "outputs": []
    },
    {
      "cell_type": "code",
      "metadata": {
        "id": "-Gm543GEeHub",
        "colab_type": "code",
        "colab": {}
      },
      "source": [
        "!ls"
      ],
      "execution_count": 0,
      "outputs": []
    },
    {
      "cell_type": "code",
      "metadata": {
        "id": "3MqMd7jbbTv5",
        "colab_type": "code",
        "colab": {}
      },
      "source": [
        "# Create the Folder Structure\n",
        "import os\n",
        "for weekCnt in range (1,12):\n",
        "  dirName = \"Week{}-Lab{}\"\n",
        "  dirName = dirName.format(weekCnt,weekCnt)\n",
        "  if not os.path.exists(dirName):\n",
        "    os.mkdir(dirName)\n",
        "  else: \n",
        "    print(dirName +\" Already exsits!\")\n"
      ],
      "execution_count": 0,
      "outputs": []
    },
    {
      "cell_type": "code",
      "metadata": {
        "id": "dBmAVnDncjbq",
        "colab_type": "code",
        "colab": {}
      },
      "source": [
        "cd Week1-Lab1/"
      ],
      "execution_count": 0,
      "outputs": []
    },
    {
      "cell_type": "code",
      "metadata": {
        "id": "wKnxQ8dZjQeX",
        "colab_type": "code",
        "colab": {}
      },
      "source": [
        "!mkdir OpenCV Python"
      ],
      "execution_count": 0,
      "outputs": []
    }
  ]
}